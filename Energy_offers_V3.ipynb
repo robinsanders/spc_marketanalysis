{
 "cells": [
  {
   "cell_type": "markdown",
   "metadata": {},
   "source": [
    "# Market Leader Analysis (Energy Only Offers/Awards)"
   ]
  },
  {
   "cell_type": "code",
   "execution_count": 1,
   "metadata": {
    "scrolled": true
   },
   "outputs": [],
   "source": [
    "# Import necessary packages\n",
    "import pandas as pd\n",
    "from pandas import DataFrame, read_csv\n",
    "import matplotlib.pyplot as plt\n",
    "import numpy as np\n",
    "import calendar\n",
    "import glob\n",
    "from datetime import datetime\n",
    "from dateutil.parser import parse\n",
    "import os\n",
    "import urllib.request\n",
    "import seaborn as sns\n",
    "from matplotlib.dates import DateFormatter\n",
    "import matplotlib.dates as mdates\n",
    "# Handle date time conversions between pandas and matplotlib\n",
    "from pandas.plotting import register_matplotlib_converters\n",
    "register_matplotlib_converters()\n",
    "\n",
    "from sklearn.linear_model import LinearRegression\n",
    "from sklearn.preprocessing import LabelEncoder,OneHotEncoder\n",
    "from sklearn.model_selection import train_test_split\n",
    "from sklearn.linear_model import Lasso\n",
    "from sklearn.model_selection import GridSearchCV\n",
    "\n",
    "\n",
    "#Regression & LDA\n",
    "import statsmodels.api as sm\n",
    "import statsmodels.formula.api as smf\n",
    "import math\n",
    "%matplotlib inline\n",
    "\n",
    "#see all columns/rows\n",
    "pd.set_option('display.max_columns', None)\n",
    "pd.set_option('display.max_rows', None)\n"
   ]
  },
  {
   "cell_type": "markdown",
   "metadata": {},
   "source": [
    "## Import and Clean Data\n",
    "###  strip/clean column headers, datetime conversion on:\n",
    "\n",
    "##### Environmental: Market Data, Locational Marginal Pricing\n",
    "*Third Party Environmental: NOAA Hourly Weather Data*\n",
    "##### Transactional: Energy Only Offers/Awards\n",
    "*Third Party Transactional: Daily NASDAQ, DOWJONES, ETF prices*"
   ]
  },
  {
   "cell_type": "code",
   "execution_count": 2,
   "metadata": {},
   "outputs": [
    {
     "name": "stderr",
     "output_type": "stream",
     "text": [
      "/Users/robinsanders/anaconda3/lib/python3.6/site-packages/IPython/core/interactiveshell.py:3020: DtypeWarning: Columns (3,5,7,8,11,14,19,25,26,27,28,29,30,31,32,33,34,35,36,41,42,43,44,49,51,52,55,56,58,69,71,72,73,75,76,88,89,95,96,97,98,99,100,101,102,103,104,105,106,107,119,123) have mixed types. Specify dtype option on import or set low_memory=False.\n",
      "  interactivity=interactivity, compiler=compiler, result=result)\n",
      "/Users/robinsanders/anaconda3/lib/python3.6/site-packages/IPython/core/interactiveshell.py:3020: DtypeWarning: Columns (3,5,7,8,11,14,19,25,26,27,28,29,30,31,34,35,36,51,55,69,71,75,76,88,89,95,123) have mixed types. Specify dtype option on import or set low_memory=False.\n",
      "  interactivity=interactivity, compiler=compiler, result=result)\n",
      "/Users/robinsanders/anaconda3/lib/python3.6/site-packages/IPython/core/interactiveshell.py:3020: DtypeWarning: Columns (3,19,25,26,27,28,29,30,31,32,34,35,36,42,44,49,55,56,69,71,72,75,76,88,89,95,96,97,98,99,100,101,102,103,104,105,106,107,123) have mixed types. Specify dtype option on import or set low_memory=False.\n",
      "  interactivity=interactivity, compiler=compiler, result=result)\n"
     ]
    }
   ],
   "source": [
    "#ERCOT\n",
    "market_df = pd.read_excel('OneDrive_1_10-22-2019/ercot_market_data.xlsx', sheet_name = 'ercot_market_data')\n",
    "lmp_df = pd.read_csv('OneDrive_1_10-22-2019/ercotlmp.csv')\n",
    "nodes_df = pd.read_excel('OneDrive_1_10-22-2019/ercot_nodes.xlsx')\n",
    "all_awards_df = pd.concat([pd.read_csv(f) for f in glob.glob('OneDrive_1_10-22-2019/EnergyOnlyOfferAwards/*.csv')], ignore_index = True)\n",
    "\n",
    "all_awards_df.columns = all_awards_df.columns.str.strip().str.lower().str.replace(' ', '_').str.replace('(', '').str.replace(')', '').str.replace(' - ',' ')\n",
    "market_df.columns = market_df.columns.str.strip().str.lower().str.replace(' ', '_').str.replace('(', '').str.replace(')', '').str.replace('-','')\n",
    "lmp_df.columns = lmp_df.columns.str.strip().str.lower().str.replace(' ', '_').str.replace('(', '').str.replace(')', '').str.replace('-','')\n",
    "nodes_df.columns = nodes_df.columns.str.strip().str.lower().str.replace(' ', '_').str.replace('(', '').str.replace(')', '').str.replace('-','')\n",
    "\n",
    "#drop unnecessary columns\n",
    "market_df = market_df.drop(columns=['datetime','year'])\n",
    "lmp_df = lmp_df.drop(columns=['datetime','year'])\n",
    "nodes_df = nodes_df.drop(columns=['iso','weatherstationid','first_dart_date','last_dart_date','equipment','voltage',\n",
    "                                    'substation','nodetype','zoneid','objectid'])\n",
    "\n",
    "#Convert marketday feature from datetime type to string type\n",
    "market_df['marketday'] = market_df['marketday'].dt.strftime('%m/%d/%Y')\n",
    "\n",
    "#3rd party data\n",
    "weather_df_1 = pd.read_csv('additional_data/weather_data_1.csv')\n",
    "weather_df_2 = pd.read_csv('additional_data/weather_data_2.csv')\n",
    "weather_df_3 = pd.read_csv('additional_data/weather_data_3.csv')\n",
    "nasdaq_df = pd.read_csv('additional_data/nasdaq_data.csv')\n",
    "etf_df = pd.read_csv('additional_data/etf_data.csv')\n",
    "dowjones_df = pd.read_csv('additional_data/dow_jones_data.csv')\n",
    "\n",
    "weather_df_1.columns = weather_df_1.columns.str.strip().str.lower().str.replace(' ', '_').str.replace('(', '').str.replace(')', '').str.replace('-','')\n",
    "weather_df_2.columns = weather_df_2.columns.str.strip().str.lower().str.replace(' ', '_').str.replace('(', '').str.replace(')', '').str.replace('-','')\n",
    "weather_df_3.columns = weather_df_3.columns.str.strip().str.lower().str.replace(' ', '_').str.replace('(', '').str.replace(')', '').str.replace('-','')\n",
    "nasdaq_df.columns = nasdaq_df.columns.str.strip().str.lower().str.replace(' ', '_').str.replace('(', '').str.replace(')', '').str.replace('-','')\n",
    "etf_df.columns = etf_df.columns.str.strip().str.lower().str.replace(' ', '_').str.replace('(', '').str.replace(')', '').str.replace('-','')\n",
    "dowjones_df.columns = dowjones_df.columns.str.strip().str.lower().str.replace(' ', '_').str.replace('(', '').str.replace(')', '').str.replace('-','')\n",
    "\n",
    "#Select hourly weather data \n",
    "weather_df_1_trim = weather_df_1[['station','date','hourlydrybulbtemperature','hourlyrelativehumidity',\n",
    "                                'hourlystationpressure','hourlywinddirection','hourlywindspeed']]\n",
    "weather_df_2_trim = weather_df_2[['station','date','hourlydrybulbtemperature','hourlyrelativehumidity',\n",
    "                                'hourlystationpressure','hourlywinddirection','hourlywindspeed']]\n",
    "weather_df_3_trim = weather_df_3[['station','date','hourlydrybulbtemperature','hourlyrelativehumidity',\n",
    "                                'hourlystationpressure','hourlywinddirection','hourlywindspeed']]\n",
    "\n",
    "\n",
    "#rename columns, drop 'close' column and use adjusted close column 'adj_close'\n",
    "nasdaq_df = nasdaq_df.rename(columns={'date':'nasdaq_date','open':'nasdaq_open','high':'nasdaq_high',\n",
    "                                     'low':'nasdaq_low','close':'nasdaq_close','adj_close':'nasdaq_adj_close','volume':'nasdaq_volume'})\n",
    "nasdaq_df = nasdaq_df.drop(columns='nasdaq_close')\n",
    "etf_df = etf_df.rename(columns={'date':'etf_date','open':'etf_open','high':'etf_high','low':'etf_low',\n",
    "                                     'close':'etf_close','adj_close':'etf_adj_close','volume':'etf_volume'})\n",
    "etf_df = etf_df.drop(columns='etf_close')\n",
    "dowjones_df = dowjones_df.rename(columns={'date':'dowjones_date','open':'dowjones_open','high':'dowjones_high',\n",
    "                                     'low':'dowjones_low','close':'dowjones_close','adj_close':'dowjones_adj_close','volume':'dowjones_volume'})\n",
    "dowjones_df = dowjones_df.drop(columns='dowjones_close')"
   ]
  },
  {
   "cell_type": "markdown",
   "metadata": {},
   "source": [
    "### Displaying Content of ERCOT Energy Only Awards"
   ]
  },
  {
   "cell_type": "code",
   "execution_count": 4,
   "metadata": {},
   "outputs": [
    {
     "data": {
      "text/html": [
       "<div>\n",
       "<style scoped>\n",
       "    .dataframe tbody tr th:only-of-type {\n",
       "        vertical-align: middle;\n",
       "    }\n",
       "\n",
       "    .dataframe tbody tr th {\n",
       "        vertical-align: top;\n",
       "    }\n",
       "\n",
       "    .dataframe thead th {\n",
       "        text-align: right;\n",
       "    }\n",
       "</style>\n",
       "<table border=\"1\" class=\"dataframe\">\n",
       "  <thead>\n",
       "    <tr style=\"text-align: right;\">\n",
       "      <th></th>\n",
       "      <th>delivery_date</th>\n",
       "      <th>hour_ending</th>\n",
       "      <th>settlement_point</th>\n",
       "      <th>qse_name</th>\n",
       "      <th>energy_only_offer_award_in_mw</th>\n",
       "      <th>settlement_point_price</th>\n",
       "      <th>offer_id</th>\n",
       "    </tr>\n",
       "  </thead>\n",
       "  <tbody>\n",
       "    <tr>\n",
       "      <th>0</th>\n",
       "      <td>07/21/2019</td>\n",
       "      <td>1</td>\n",
       "      <td>AEEC</td>\n",
       "      <td>QAUTO2</td>\n",
       "      <td>12.0</td>\n",
       "      <td>11.00</td>\n",
       "      <td>NPvWjz5dECAn</td>\n",
       "    </tr>\n",
       "    <tr>\n",
       "      <th>1</th>\n",
       "      <td>07/21/2019</td>\n",
       "      <td>1</td>\n",
       "      <td>AEEC</td>\n",
       "      <td>QJACIN</td>\n",
       "      <td>0.0</td>\n",
       "      <td>11.00</td>\n",
       "      <td>Macq9896</td>\n",
       "    </tr>\n",
       "    <tr>\n",
       "      <th>2</th>\n",
       "      <td>07/21/2019</td>\n",
       "      <td>1</td>\n",
       "      <td>AEEC</td>\n",
       "      <td>QREUEL</td>\n",
       "      <td>24.0</td>\n",
       "      <td>11.00</td>\n",
       "      <td>jb1</td>\n",
       "    </tr>\n",
       "    <tr>\n",
       "      <th>3</th>\n",
       "      <td>07/21/2019</td>\n",
       "      <td>1</td>\n",
       "      <td>AMISTAD_ALL</td>\n",
       "      <td>QAUTO2</td>\n",
       "      <td>10.0</td>\n",
       "      <td>20.55</td>\n",
       "      <td>uB67RehzUeWd</td>\n",
       "    </tr>\n",
       "    <tr>\n",
       "      <th>4</th>\n",
       "      <td>07/21/2019</td>\n",
       "      <td>1</td>\n",
       "      <td>AMISTAD_ALL</td>\n",
       "      <td>QJACIN</td>\n",
       "      <td>2.2</td>\n",
       "      <td>20.55</td>\n",
       "      <td>Macq9896</td>\n",
       "    </tr>\n",
       "  </tbody>\n",
       "</table>\n",
       "</div>"
      ],
      "text/plain": [
       "  delivery_date  hour_ending settlement_point qse_name  \\\n",
       "0    07/21/2019            1             AEEC   QAUTO2   \n",
       "1    07/21/2019            1             AEEC   QJACIN   \n",
       "2    07/21/2019            1             AEEC   QREUEL   \n",
       "3    07/21/2019            1      AMISTAD_ALL   QAUTO2   \n",
       "4    07/21/2019            1      AMISTAD_ALL   QJACIN   \n",
       "\n",
       "   energy_only_offer_award_in_mw  settlement_point_price      offer_id  \n",
       "0                           12.0                   11.00  NPvWjz5dECAn  \n",
       "1                            0.0                   11.00      Macq9896  \n",
       "2                           24.0                   11.00           jb1  \n",
       "3                           10.0                   20.55  uB67RehzUeWd  \n",
       "4                            2.2                   20.55      Macq9896  "
      ]
     },
     "execution_count": 4,
     "metadata": {},
     "output_type": "execute_result"
    }
   ],
   "source": [
    "all_awards_df.head()"
   ]
  },
  {
   "cell_type": "markdown",
   "metadata": {},
   "source": [
    "## Select Top 10 Leaders"
   ]
  },
  {
   "cell_type": "code",
   "execution_count": 5,
   "metadata": {},
   "outputs": [
    {
     "name": "stderr",
     "output_type": "stream",
     "text": [
      "/Users/robinsanders/anaconda3/lib/python3.6/site-packages/ipykernel_launcher.py:5: SettingWithCopyWarning: \n",
      "A value is trying to be set on a copy of a slice from a DataFrame.\n",
      "Try using .loc[row_indexer,col_indexer] = value instead\n",
      "\n",
      "See the caveats in the documentation: http://pandas.pydata.org/pandas-docs/stable/indexing.html#indexing-view-versus-copy\n",
      "  \"\"\"\n"
     ]
    }
   ],
   "source": [
    "#Select Leader Data from QSE Names of top 10 leaders\n",
    "lead_awd = all_awards_df.loc[all_awards_df['qse_name'].isin(['QREUEL','QFPLE4','QLEPPM','QRAID',\n",
    "                                                                   'QSHELL','QEXELO','QTRAIL','QWAKE','QEDF26','QTTPAL'])]\n",
    "#Select Data within timeline presented in Jeff's Power BI Dashboard (Jan 3, 2019 - July 12, 2019)\n",
    "lead_awd['date'] = pd.to_datetime(lead_awd['delivery_date'])\n",
    "mask = (lead_awd['date'] >= '2019-01-02') & (lead_awd['date'] < '2019-07-13')\n",
    "awards = lead_awd.loc[mask]\n",
    "\n",
    "#lead_awd is the base of the merging section to create a model-ready dataset"
   ]
  },
  {
   "cell_type": "markdown",
   "metadata": {},
   "source": [
    "## Join Tables, Create 'Data' Table for Models"
   ]
  },
  {
   "cell_type": "code",
   "execution_count": 8,
   "metadata": {},
   "outputs": [],
   "source": [
    "#Join Market Condition & Location Pricing & Node Data\n",
    "market_lmp = lmp_df.merge(market_df, how = 'left', on = ['marketday','hourending','peaktype','month'])\n",
    "market_lmp_nodes = market_lmp.merge(nodes_df, how='left', left_on='settlementpoint', right_on='nodename')\n",
    "awards = awards.rename(columns={'delivery_date':'marketday','hour_ending':'hourending','settlement_point':'settlementpoint'})\n",
    "\n",
    "data_ercot = awards.merge(market_lmp_nodes, how = 'left', on = ['marketday','hourending','settlementpoint'])\n",
    "data_ercot = data_ercot.drop(columns=['nodename'])\n",
    "data_ercot.loc[(data_ercot.nearest_weatherstation == 'TM - Nuevo Laredo/Intl'),'nearest_weatherstation']='TX - Laredo/Intl'\n",
    "data_ercot = data_ercot.fillna(0.0)\n",
    "data_ercot.loc[(data_ercot.zone == 0.0),'zone']='Other'"
   ]
  },
  {
   "cell_type": "code",
   "execution_count": 9,
   "metadata": {},
   "outputs": [],
   "source": [
    "stocks_df = nasdaq_df.merge(etf_df, how='left',left_on='nasdaq_date',right_on='etf_date')\n",
    "stocks_df = stocks_df.merge(dowjones_df, how='left',left_on='nasdaq_date',right_on='dowjones_date')\n",
    "stocks_df = stocks_df.drop(columns=['dowjones_date','etf_date'])\n",
    "stocks_df = stocks_df.rename(columns={'nasdaq_date':'date'})\n",
    "stocks_df['date'] = pd.to_datetime(stocks_df['date'],infer_datetime_format=True)\n",
    "stocks_df['date'] = stocks_df['date'].dt.strftime('%m/%d/%Y')"
   ]
  },
  {
   "cell_type": "code",
   "execution_count": 10,
   "metadata": {},
   "outputs": [],
   "source": [
    "weather_df = pd.concat([weather_df_1_trim, weather_df_2_trim,weather_df_3_trim])\n",
    "\n",
    "weather_df['hourlydrybulbtemperature'] = pd.to_numeric(weather_df['hourlydrybulbtemperature'], errors='coerce', downcast=None)\n",
    "weather_df['hourlystationpressure'] = pd.to_numeric(weather_df['hourlystationpressure'], errors='coerce', downcast=None)\n",
    "weather_df['hourlywinddirection'] = pd.to_numeric(weather_df['hourlywinddirection'], errors='coerce', downcast=None)\n",
    "weather_df['hourlywindspeed'] = pd.to_numeric(weather_df['hourlywindspeed'], errors='coerce', downcast=None)\n",
    "\n",
    "weather_df['date'] = pd.to_datetime(weather_df['date'],infer_datetime_format=True)\n",
    "weather_df['hourending'] = [d.time() for d in weather_df['date']]\n",
    "mask = (weather_df['date'] >= '2019-01-02') & (weather_df['date'] < '2019-07-13')\n",
    "weather_df = weather_df.loc[mask]\n",
    "hours = [math.ceil((t.hour * 60 + t.minute) / 60) for t in weather_df['hourending']]\n",
    "weather_df['hour'] = hours\n",
    "weather_df['hour']= weather_df['hour'].apply(str).apply(int)\n",
    "weather_df = weather_df.loc[(weather_df['hour'] > 0)]\n",
    "weather_df['date'] = weather_df['date'].dt.strftime('%m/%d/%Y')\n",
    "c_maxes = weather_df.groupby(['station', 'date','hour']).hourending.transform(max)\n",
    "weather_df = weather_df.loc[weather_df.hourending == c_maxes]\n",
    "weather_df['station'] = weather_df['station'].map({72267023042: 'TX - Lubbock/Intl',\n",
    "                                                                 72251012924: 'TX - Corpus Christi/Intl',\n",
    "                                                                 72266013962: 'TX - Abilene/Municipal', \n",
    "                                                                 72250012919: 'TX - Brownsville/Intl', \n",
    "                                                                 72351013966: 'TX - Wichita Falls/Sheppard AFB',\n",
    "                                                                 72261022010: 'TX - Del Rio/Intl',\n",
    "                                                                 72265023023: 'TX - Midland-Odessa',\n",
    "                                                                 72253012921: 'TX - San Antonio/Intl',\n",
    "                                                                 72363023047: 'TX - Amarillo/Intl',\n",
    "                                                                 72248013957: 'LA - Shreveport/Regional',\n",
    "                                                                 72263023034: 'TX - San Angelo/Mathis',\n",
    "                                                                 72265623040: 'TX - Wink/Winkler County',\n",
    "                                                                 72258013960: 'TX - Dallas/Love Field',\n",
    "                                                                 72243012960: 'TX - Houston/Intercontinental',\n",
    "                                                                 72261823091: 'TX - Fort Stockton',\n",
    "                                                                 72252012907: 'TX - Laredo/Intl',\n",
    "                                                                 74641013975: 'OK - Gage/Shattuck',\n",
    "                                                                 72259303985: 'TX - Dallas-Fort Worth/Intl'})\n"
   ]
  },
  {
   "cell_type": "code",
   "execution_count": 11,
   "metadata": {},
   "outputs": [],
   "source": [
    "weather_df=weather_df.drop_duplicates(keep='first')"
   ]
  },
  {
   "cell_type": "code",
   "execution_count": 12,
   "metadata": {},
   "outputs": [],
   "source": [
    "stocks_weather_df = weather_df.merge(stocks_df, how = 'left', on='date')\n",
    "stocks_weather_df = stocks_weather_df.fillna(0.00)\n",
    "stocks_weather_df=stocks_weather_df.drop_duplicates(keep='first')"
   ]
  },
  {
   "cell_type": "code",
   "execution_count": 13,
   "metadata": {},
   "outputs": [
    {
     "data": {
      "text/plain": [
       "(113588, 24)"
      ]
     },
     "execution_count": 13,
     "metadata": {},
     "output_type": "execute_result"
    }
   ],
   "source": [
    "stocks_weather_df.shape"
   ]
  },
  {
   "cell_type": "code",
   "execution_count": 14,
   "metadata": {},
   "outputs": [
    {
     "data": {
      "text/plain": [
       "(138748, 24)"
      ]
     },
     "execution_count": 14,
     "metadata": {},
     "output_type": "execute_result"
    }
   ],
   "source": [
    "data_ercot.shape"
   ]
  },
  {
   "cell_type": "code",
   "execution_count": 15,
   "metadata": {},
   "outputs": [],
   "source": [
    "data = data_ercot.merge(stocks_weather_df.drop_duplicates(['date','hour','station']), \n",
    "                       how = 'left', \n",
    "                       left_on = ['marketday','hourending','nearest_weatherstation'], \n",
    "                       right_on=['date','hour','station'])\n"
   ]
  },
  {
   "cell_type": "code",
   "execution_count": 16,
   "metadata": {},
   "outputs": [
    {
     "data": {
      "text/plain": [
       "(138748, 48)"
      ]
     },
     "execution_count": 16,
     "metadata": {},
     "output_type": "execute_result"
    }
   ],
   "source": [
    "data.shape"
   ]
  },
  {
   "cell_type": "markdown",
   "metadata": {},
   "source": [
    "### Create Evaluation Criterion: PnL"
   ]
  },
  {
   "cell_type": "code",
   "execution_count": 17,
   "metadata": {},
   "outputs": [],
   "source": [
    "#Create PnL column for Performance Measurement/Evaluation Criterion\n",
    "data['PnL'] = (data.dalmp-data.rtlmp) * data.energy_only_offer_award_in_mw\n",
    "#Separate Leaders into dataframes for separate modeling\n",
    "leaders_QREUEL = data.loc[data['qse_name'] == 'QREUEL']\n",
    "leaders_QFPLE4 = data.loc[data['qse_name'] == 'QFPLE4']\n",
    "leaders_QLEPPM = data.loc[data['qse_name'] == 'QLEPPM']\n",
    "leaders_QRAID = data.loc[data['qse_name'] == 'QRAID']\n",
    "leaders_QSHELL = data.loc[data['qse_name'] == 'QSHELL']\n",
    "leaders_QEXELO = data.loc[data['qse_name'] == 'QEXELO']\n",
    "leaders_QTRAIL = data.loc[data['qse_name'] == 'QTRAIL']\n",
    "leaders_QWAKE = data.loc[data['qse_name'] == 'QWAKE']\n",
    "leaders_QEDF26 = data.loc[data['qse_name'] == 'QEDF26']\n",
    "leaders_QTTPAL = data.loc[data['qse_name'] == 'QTTPAL']"
   ]
  },
  {
   "cell_type": "code",
   "execution_count": null,
   "metadata": {},
   "outputs": [],
   "source": [
    "leaders_QREUEL['PnL'].sum() #Power Bi: 782,010.73\n",
    "leaders_QFPLE4['PnL'].sum() #Power Bi: 544,545.72\n",
    "leaders_QLEPPM['PnL'].sum() #Power Bi: 267,344.34\n",
    "leaders_QRAID['PnL'].sum() #Power Bi: 193,016.14\n",
    "leaders_QSHELL['PnL'].sum() #Power Bi: 179,504.23\n",
    "leaders_QEXELO['PnL'].sum() #Power Bi: 155,802.45\n",
    "leaders_QTRAIL['PnL'].sum() #Power Bi: 148,386.28\n",
    "leaders_QWAKE['PnL'].sum() #Power Bi: 145,813.26\n",
    "leaders_QEDF26['PnL'].sum() #Power Bi: 143,823.99\n",
    "leaders_QTTPAL['PnL'].sum() #Power BI: 140,899.54\n",
    "PnL\n"
   ]
  },
  {
   "cell_type": "markdown",
   "metadata": {},
   "source": [
    "# Model Test 1: Linear Regression"
   ]
  },
  {
   "cell_type": "code",
   "execution_count": null,
   "metadata": {},
   "outputs": [],
   "source": [
    "leaders_QREUEL_X = leaders_QREUEL_X.fillna(0)\n",
    "reg = LinearRegression().fit(leaders_QREUEL_X,leaders_QREUEL_y)\n",
    "reg.coef_\n",
    "reg.score(leaders_QREUEL_X, leaders_QREUEL_y)"
   ]
  },
  {
   "cell_type": "code",
   "execution_count": null,
   "metadata": {},
   "outputs": [],
   "source": []
  }
 ],
 "metadata": {
  "kernelspec": {
   "display_name": "Python 3",
   "language": "python",
   "name": "python3"
  },
  "language_info": {
   "codemirror_mode": {
    "name": "ipython",
    "version": 3
   },
   "file_extension": ".py",
   "mimetype": "text/x-python",
   "name": "python",
   "nbconvert_exporter": "python",
   "pygments_lexer": "ipython3",
   "version": "3.6.8"
  }
 },
 "nbformat": 4,
 "nbformat_minor": 2
}
