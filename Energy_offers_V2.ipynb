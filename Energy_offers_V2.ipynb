{
 "cells": [
  {
   "cell_type": "markdown",
   "metadata": {},
   "source": [
    "# Market Leader Analysis (Energy Only Offers/Awards)"
   ]
  },
  {
   "cell_type": "code",
   "execution_count": 1,
   "metadata": {
    "scrolled": true
   },
   "outputs": [],
   "source": [
    "# Import necessary packages\n",
    "import pandas as pd\n",
    "from pandas import DataFrame, read_csv\n",
    "import matplotlib.pyplot as plt\n",
    "import numpy as np\n",
    "import calendar\n",
    "import glob\n",
    "from datetime import datetime\n",
    "from dateutil.parser import parse\n",
    "import os\n",
    "import urllib.request\n",
    "import seaborn as sns\n",
    "from matplotlib.dates import DateFormatter\n",
    "import matplotlib.dates as mdates\n",
    "# Handle date time conversions between pandas and matplotlib\n",
    "from pandas.plotting import register_matplotlib_converters\n",
    "register_matplotlib_converters()\n",
    "\n",
    "from sklearn.linear_model import LinearRegression\n",
    "#Logistic Regression & LDA\n",
    "import statsmodels.api as sm\n",
    "import statsmodels.formula.api as smf\n",
    "import math\n",
    "%matplotlib inline\n",
    "\n",
    "#see all columns/rows\n",
    "pd.set_option('display.max_columns', None)\n",
    "pd.set_option('display.max_rows', None)\n"
   ]
  },
  {
   "cell_type": "markdown",
   "metadata": {},
   "source": [
    "## Import and Clean Data\n",
    "###  strip/clean column headers, datetime conversion on:\n",
    "\n",
    "##### Environmental: Market Data, Locational Marginal Pricing\n",
    "*Third Party Environmental: NOAA Hourly Weather Data*\n",
    "##### Transactional: Energy Only Offers/Awards\n",
    "*Third Party Transactional: Daily NASDAQ, DOWJONES, ETF prices*"
   ]
  },
  {
   "cell_type": "code",
   "execution_count": 2,
   "metadata": {},
   "outputs": [
    {
     "name": "stderr",
     "output_type": "stream",
     "text": [
      "/Users/robinsanders/anaconda3/lib/python3.6/site-packages/IPython/core/interactiveshell.py:3020: DtypeWarning: Columns (3,5,7,8,11,14,19,25,26,27,28,29,30,31,32,33,34,35,36,41,42,43,44,49,51,52,55,56,58,69,71,72,73,75,76,88,89,95,96,97,98,99,100,101,102,103,104,105,106,107,119,123) have mixed types. Specify dtype option on import or set low_memory=False.\n",
      "  interactivity=interactivity, compiler=compiler, result=result)\n",
      "/Users/robinsanders/anaconda3/lib/python3.6/site-packages/IPython/core/interactiveshell.py:3020: DtypeWarning: Columns (3,5,7,8,11,14,19,25,26,27,28,29,30,31,34,35,36,51,55,69,71,75,76,88,89,95,123) have mixed types. Specify dtype option on import or set low_memory=False.\n",
      "  interactivity=interactivity, compiler=compiler, result=result)\n",
      "/Users/robinsanders/anaconda3/lib/python3.6/site-packages/IPython/core/interactiveshell.py:3020: DtypeWarning: Columns (3,19,25,26,27,28,29,30,31,32,34,35,36,42,44,49,55,56,69,71,72,75,76,88,89,95,96,97,98,99,100,101,102,103,104,105,106,107,123) have mixed types. Specify dtype option on import or set low_memory=False.\n",
      "  interactivity=interactivity, compiler=compiler, result=result)\n"
     ]
    }
   ],
   "source": [
    "#ERCOT\n",
    "market_df = pd.read_excel('OneDrive_1_10-22-2019/ercot_market_data.xlsx', sheet_name = 'ercot_market_data')\n",
    "lmp_df = pd.read_csv('OneDrive_1_10-22-2019/ercotlmp.csv')\n",
    "nodes_df = pd.read_excel('OneDrive_1_10-22-2019/ercot_nodes.xlsx')\n",
    "all_offers_df = pd.concat([pd.read_csv(f) for f in glob.glob('OneDrive_1_10-22-2019/EnergyOnlyOffers/*.csv')], ignore_index = True)\n",
    "all_awards_df = pd.concat([pd.read_csv(f) for f in glob.glob('OneDrive_1_10-22-2019/EnergyOnlyOfferAwards/*.csv')], ignore_index = True)\n",
    "\n",
    "all_awards_df.columns = all_awards_df.columns.str.strip().str.lower().str.replace(' ', '_').str.replace('(', '').str.replace(')', '').str.replace(' - ',' ')\n",
    "all_offers_df.columns = all_offers_df.columns.str.strip().str.lower().str.replace(' ', '_').str.replace('(', '').str.replace(')', '').str.replace(' - ',' ')\n",
    "market_df.columns = market_df.columns.str.strip().str.lower().str.replace(' ', '_').str.replace('(', '').str.replace(')', '').str.replace('-','')\n",
    "lmp_df.columns = lmp_df.columns.str.strip().str.lower().str.replace(' ', '_').str.replace('(', '').str.replace(')', '').str.replace('-','')\n",
    "nodes_df.columns = nodes_df.columns.str.strip().str.lower().str.replace(' ', '_').str.replace('(', '').str.replace(')', '').str.replace('-','')\n",
    "#Convert marketday feature from datetime type to string type\n",
    "market_df['marketday'] = market_df['marketday'].dt.strftime('%m/%d/%Y')\n",
    "\n",
    "#3rd party data\n",
    "weather_df_1 = pd.read_csv('additional_data/weather_data_1.csv')\n",
    "weather_df_2 = pd.read_csv('additional_data/weather_data_2.csv')\n",
    "weather_df_3 = pd.read_csv('additional_data/weather_data_3.csv')\n",
    "nasdaq_df = pd.read_csv('additional_data/nasdaq_data.csv')\n",
    "etf_df = pd.read_csv('additional_data/etf_data.csv')\n",
    "dowjones_df = pd.read_csv('additional_data/dow_jones_data.csv')\n",
    "\n",
    "weather_df_1.columns = weather_df_1.columns.str.strip().str.lower().str.replace(' ', '_').str.replace('(', '').str.replace(')', '').str.replace('-','')\n",
    "weather_df_2.columns = weather_df_2.columns.str.strip().str.lower().str.replace(' ', '_').str.replace('(', '').str.replace(')', '').str.replace('-','')\n",
    "weather_df_3.columns = weather_df_3.columns.str.strip().str.lower().str.replace(' ', '_').str.replace('(', '').str.replace(')', '').str.replace('-','')\n",
    "nasdaq_df.columns = nasdaq_df.columns.str.strip().str.lower().str.replace(' ', '_').str.replace('(', '').str.replace(')', '').str.replace('-','')\n",
    "etf_df.columns = etf_df.columns.str.strip().str.lower().str.replace(' ', '_').str.replace('(', '').str.replace(')', '').str.replace('-','')\n",
    "dowjones_df.columns = dowjones_df.columns.str.strip().str.lower().str.replace(' ', '_').str.replace('(', '').str.replace(')', '').str.replace('-','')\n",
    "\n",
    "#trim\n",
    "weather_df_1_trim = weather_df_1[['station','date','hourlydewpointtemperature','hourlydrybulbtemperature',\n",
    "                                'hourlyprecipitation','hourlypressuretendency','hourlyrelativehumidity',\n",
    "                                'hourlystationpressure','hourlywetbulbtemperature','hourlywinddirection',\n",
    "                                'hourlywindgustspeed','hourlywindspeed']]\n",
    "weather_df_2_trim = weather_df_2[['station','date','hourlydewpointtemperature','hourlydrybulbtemperature',\n",
    "                                'hourlyprecipitation','hourlypressuretendency','hourlyrelativehumidity',\n",
    "                                'hourlystationpressure','hourlywetbulbtemperature','hourlywinddirection',\n",
    "                                'hourlywindgustspeed','hourlywindspeed']]\n",
    "weather_df_3_trim = weather_df_3[['station','date','hourlydewpointtemperature','hourlydrybulbtemperature',\n",
    "                                'hourlyprecipitation','hourlypressuretendency','hourlyrelativehumidity',\n",
    "                                'hourlystationpressure','hourlywetbulbtemperature','hourlywinddirection',\n",
    "                                'hourlywindgustspeed','hourlywindspeed']]\n",
    "#rename columns\n",
    "nasdaq_df = nasdaq_df.rename(columns={'date':'nasdaq_date','open':'nasdaq_open','high':'nasdaq_high',\n",
    "                                     'low':'nasdaq_low','close':'nasdaq_close','adj Close':'nasdaq_adj_close',\n",
    "                                     'volume':'nasdaq_volume'})\n",
    "etf_df = etf_df.rename(columns={'date':'etf_date','open':'etf_open','high':'etf_high','low':'etf_low',\n",
    "                                     'close':'etf_close','adj Close':'etf_adj_close','volume':'etf_volume'})\n",
    "dowjones_df = dowjones_df.rename(columns={'date':'dowjones_date','open':'dowjones_open','high':'dowjones_high',\n",
    "                                     'low':'dowjones_low','close':'dowjones_close','adj close':'dowjones_adj_close',\n",
    "                                     'volume':'dowjones_volume'})"
   ]
  },
  {
   "cell_type": "markdown",
   "metadata": {},
   "source": [
    "## Select Top 10 Leaders"
   ]
  },
  {
   "cell_type": "code",
   "execution_count": 3,
   "metadata": {},
   "outputs": [
    {
     "name": "stderr",
     "output_type": "stream",
     "text": [
      "/Users/robinsanders/anaconda3/lib/python3.6/site-packages/ipykernel_launcher.py:7: SettingWithCopyWarning: \n",
      "A value is trying to be set on a copy of a slice from a DataFrame.\n",
      "Try using .loc[row_indexer,col_indexer] = value instead\n",
      "\n",
      "See the caveats in the documentation: http://pandas.pydata.org/pandas-docs/stable/indexing.html#indexing-view-versus-copy\n",
      "  import sys\n",
      "/Users/robinsanders/anaconda3/lib/python3.6/site-packages/ipykernel_launcher.py:8: SettingWithCopyWarning: \n",
      "A value is trying to be set on a copy of a slice from a DataFrame.\n",
      "Try using .loc[row_indexer,col_indexer] = value instead\n",
      "\n",
      "See the caveats in the documentation: http://pandas.pydata.org/pandas-docs/stable/indexing.html#indexing-view-versus-copy\n",
      "  \n"
     ]
    }
   ],
   "source": [
    "#Select Leader Data from QSE Names of top 10 leaders\n",
    "lead_off = all_offers_df.loc[all_offers_df['qse_name'].isin(['QREUEL','QFPLE4','QLEPPM','QRAID',\n",
    "                                                                   'QSHELL','QEXELO','QTRAIL','QWAKE','QEDF26','QTTPAL'])]\n",
    "lead_awd = all_awards_df.loc[all_awards_df['qse_name'].isin(['QREUEL','QFPLE4','QLEPPM','QRAID',\n",
    "                                                                   'QSHELL','QEXELO','QTRAIL','QWAKE','QEDF26','QTTPAL'])]\n",
    "#Select Data within timeline presented in Jeff's Power BI Dashboard (Jan 3, 2019 - July 12, 2019)\n",
    "lead_awd['date'] = pd.to_datetime(lead_awd['delivery_date'])\n",
    "lead_off['date'] = pd.to_datetime(lead_off['delivery_date'])\n",
    "mask = (lead_awd['date'] >= '2019-01-02') & (lead_awd['date'] < '2019-07-13')\n",
    "awards = lead_awd.loc[mask]\n",
    "mask = (lead_off['date'] > '2019-01-02') & (lead_off['date'] <= '2019-07-12')\n",
    "offers = lead_off.loc[mask]\n"
   ]
  },
  {
   "cell_type": "markdown",
   "metadata": {},
   "source": [
    "## Join Tables, Create 'Data' Table for Models"
   ]
  },
  {
   "cell_type": "code",
   "execution_count": 35,
   "metadata": {},
   "outputs": [],
   "source": [
    "#Join Market Condition & Location Pricing Data\n",
    "market_lmp = lmp_df.merge(market_df, how = 'left', on = ['marketday','hourending','peaktype','month','year'])\n",
    "market_lmp = market_lmp.drop(['datetime_y','year'],axis=1)\n",
    "market_lmp = market_lmp.rename(columns={'datetime_x':'datetime'})\n",
    "market_lmp_nodes = market_lmp.merge(nodes_df, how='left', left_on='settlementpoint', right_on='nodename')\n",
    "awards = awards.rename(columns={'delivery_date':'marketday','hour_ending':'hourending','settlement_point':'settlementpoint'})\n",
    "\n",
    "model_dta = awards.merge(market_lmp_nodes, how = 'left', on = ['marketday','hourending','settlementpoint'])\n",
    "model_dta = model_dta.drop(columns=['iso','weatherstationid','first_dart_date','last_dart_date','equipment','voltage',\n",
    "                                    'substation','nodetype','zoneid','nodename','objectid','date','datetime','offer_id'])\n",
    "model_dta.loc[(model_dta.nearest_weatherstation == 'TM - Nuevo Laredo/Intl'),'nearest_weatherstation']='TX - Laredo/Intl'"
   ]
  },
  {
   "cell_type": "code",
   "execution_count": 36,
   "metadata": {},
   "outputs": [],
   "source": [
    "stocks_df = nasdaq_df.merge(etf_df, how='left',left_on='nasdaq_date',right_on='etf_date')\n",
    "stocks_df = stocks_df.merge(dowjones_df, how='left',left_on='nasdaq_date',right_on='dowjones_date')\n",
    "stocks_df = stocks_df.drop(columns=['dowjones_date','etf_date'])\n",
    "stocks_df = stocks_df.rename(columns={'nasdaq_date':'date'})\n",
    "stocks_df['date'] = pd.to_datetime(stocks_df['date'],infer_datetime_format=True)\n",
    "stocks_df['date'] = stocks_df['date'].dt.strftime('%m/%d/%Y')"
   ]
  },
  {
   "cell_type": "code",
   "execution_count": 37,
   "metadata": {},
   "outputs": [],
   "source": [
    "weather_df = pd.concat([weather_df_1_trim, weather_df_2_trim,weather_df_3_trim])\n",
    "weather_df['date'] = pd.to_datetime(weather_df['date'],infer_datetime_format=True)\n",
    "weather_df['hourending'] = [d.time() for d in weather_df['date']]\n",
    "mask = (weather_df['date'] >= '2019-01-02') & (weather_df['date'] < '2019-07-13')\n",
    "weather_df = weather_df.loc[mask]\n",
    "hours = [math.ceil((t.hour * 60 + t.minute) / 60) for t in weather_df['hourending']]\n",
    "weather_df['hour'] = hours\n",
    "weather_df['hour']= weather_df['hour'].apply(str).apply(int)\n",
    "weather_df = weather_df.loc[(weather_df['hour'] > 0)]\n",
    "weather_df['date'] = weather_df['date'].dt.strftime('%m/%d/%Y')\n",
    "c_maxes = weather_df.groupby(['station', 'date','hour']).hourending.transform(max)\n",
    "weather_df = weather_df.loc[weather_df.hourending == c_maxes]\n",
    "weather_df['station'] = weather_df['station'].map({72267023042: 'TX - Lubbock/Intl',\n",
    "                                                                 72251012924: 'TX - Corpus Christi/Intl',\n",
    "                                                                 72266013962: 'TX - Abilene/Municipal', \n",
    "                                                                 72250012919: 'TX - Brownsville/Intl', \n",
    "                                                                 72351013966: 'TX - Wichita Falls/Sheppard AFB',\n",
    "                                                                 72261022010: 'TX - Del Rio/Intl',\n",
    "                                                                 72265023023: 'TX - Midland-Odessa',\n",
    "                                                                 72253012921: 'TX - San Antonio/Intl',\n",
    "                                                                 72363023047: 'TX - Amarillo/Intl',\n",
    "                                                                 72248013957: 'LA - Shreveport/Regional',\n",
    "                                                                 72263023034: 'TX - San Angelo/Mathis',\n",
    "                                                                 72265623040: 'TX - Wink/Winkler County',\n",
    "                                                                 72258013960: 'TX - Dallas/Love Field',\n",
    "                                                                 72243012960: 'TX - Houston/Intercontinental',\n",
    "                                                                 72261823091: 'TX - Fort Stockton',\n",
    "                                                                 72252012907: 'TX - Laredo/Intl',\n",
    "                                                                 74641013975: 'OK - Gage/Shattuck',\n",
    "                                                                 72259303985: 'TX - Dallas-Fort Worth/Intl'})\n"
   ]
  },
  {
   "cell_type": "code",
   "execution_count": 38,
   "metadata": {},
   "outputs": [
    {
     "data": {
      "text/plain": [
       "(124992, 13)"
      ]
     },
     "execution_count": 38,
     "metadata": {},
     "output_type": "execute_result"
    }
   ],
   "source": [
    "weather_df = weather_df.drop(columns='hourending')\n",
    "weather_df=weather_df.drop_duplicates(keep='first')"
   ]
  },
  {
   "cell_type": "code",
   "execution_count": 39,
   "metadata": {},
   "outputs": [],
   "source": [
    "stocks_weather_df = weather_df.merge(stocks_df, how = 'left', on='date')\n",
    "stocks_weather_df = stocks_weather_df.fillna(0.00)\n",
    "stocks_weather_df=stocks_weather_df.drop_duplicates(keep='first')"
   ]
  },
  {
   "cell_type": "code",
   "execution_count": 40,
   "metadata": {},
   "outputs": [
    {
     "data": {
      "text/plain": [
       "(124992, 31)"
      ]
     },
     "execution_count": 40,
     "metadata": {},
     "output_type": "execute_result"
    }
   ],
   "source": [
    "stocks_weather_df.shape"
   ]
  },
  {
   "cell_type": "code",
   "execution_count": 41,
   "metadata": {},
   "outputs": [
    {
     "data": {
      "text/plain": [
       "(138748, 22)"
      ]
     },
     "execution_count": 41,
     "metadata": {},
     "output_type": "execute_result"
    }
   ],
   "source": [
    "model_dta.shape"
   ]
  },
  {
   "cell_type": "code",
   "execution_count": 45,
   "metadata": {},
   "outputs": [],
   "source": [
    "data = model_dta.merge(stocks_weather_df.drop_duplicates(['date','hour','station']), \n",
    "                       how = 'left', \n",
    "                       left_on = ['marketday','hourending','nearest_weatherstation'], \n",
    "                       right_on=['date','hour','station'])\n"
   ]
  },
  {
   "cell_type": "code",
   "execution_count": 46,
   "metadata": {},
   "outputs": [
    {
     "data": {
      "text/plain": [
       "(138748, 53)"
      ]
     },
     "execution_count": 46,
     "metadata": {},
     "output_type": "execute_result"
    }
   ],
   "source": [
    "data.shape"
   ]
  },
  {
   "cell_type": "markdown",
   "metadata": {},
   "source": [
    "### Create Evaluation Criterion: PnL"
   ]
  },
  {
   "cell_type": "code",
   "execution_count": 47,
   "metadata": {},
   "outputs": [],
   "source": [
    "#Create PnL column for Performance Measurement/Evaluation Criterion\n",
    "data['PnL'] = (data.dalmp-data.rtlmp) * data.energy_only_offer_award_in_mw\n",
    "#Separate Leaders into dataframes for separate modeling\n",
    "leaders_QREUEL = data.loc[data['qse_name'] == 'QREUEL']\n",
    "leaders_QFPLE4 = data.loc[data['qse_name'] == 'QFPLE4']\n",
    "leaders_QLEPPM = data.loc[data['qse_name'] == 'QLEPPM']\n",
    "leaders_QRAID = data.loc[data['qse_name'] == 'QRAID']\n",
    "leaders_QSHELL = data.loc[data['qse_name'] == 'QSHELL']\n",
    "leaders_QEXELO = data.loc[data['qse_name'] == 'QEXELO']\n",
    "leaders_QTRAIL = data.loc[data['qse_name'] == 'QTRAIL']\n",
    "leaders_QWAKE = data.loc[data['qse_name'] == 'QWAKE']\n",
    "leaders_QEDF26 = data.loc[data['qse_name'] == 'QEDF26']\n",
    "leaders_QTTPAL = data.loc[data['qse_name'] == 'QTTPAL']"
   ]
  },
  {
   "cell_type": "code",
   "execution_count": 59,
   "metadata": {},
   "outputs": [
    {
     "data": {
      "text/plain": [
       "140899.54475"
      ]
     },
     "execution_count": 59,
     "metadata": {},
     "output_type": "execute_result"
    }
   ],
   "source": [
    "leaders_QREUEL['PnL'].sum() #Power Bi: 782,010.73\n",
    "leaders_QFPLE4['PnL'].sum() #Power Bi: 544,545.72\n",
    "leaders_QLEPPM['PnL'].sum() #Power Bi: 267,344.34\n",
    "leaders_QRAID['PnL'].sum() #Power Bi: 193,016.14\n",
    "leaders_QSHELL['PnL'].sum() #Power Bi: 179,504.23\n",
    "leaders_QEXELO['PnL'].sum() #Power Bi: 155,802.45\n",
    "leaders_QTRAIL['PnL'].sum() #Power Bi: 148,386.28\n",
    "leaders_QWAKE['PnL'].sum() #Power Bi: 145,813.26\n",
    "leaders_QEDF26['PnL'].sum() #Power Bi: 143,823.99\n",
    "leaders_QTTPAL['PnL'].sum() #Power BI: 140,899.54\n",
    "PnL\n"
   ]
  },
  {
   "cell_type": "code",
   "execution_count": 60,
   "metadata": {},
   "outputs": [],
   "source": [
    "leaders_QREUEL_X = leaders_QREUEL[['hour',\n",
    "                                'energy_only_offer_award_in_mw','settlement_point_price',\n",
    "                                'rtlmp','dalmp',\n",
    "                                'gr_panhandle_wind_stwpf', 'panhandle_ercot_rt_generic_constraints',\n",
    "                                'ercot_total_resource_cap_out','ercot_gen_resource','ercot_rtload',\n",
    "                                'ercot_original_load_forecast','ercot_wind_rti','ercot_wind_stwpf_orig',\n",
    "                                'ercot_total_resource_cap_out.1','ercot_renew_resource_cap_out',\n",
    "                                'ercot_renew_resource_cap_out',\n",
    "                                 #'hourlydewpointtemperature','hourlydrybulbtemperature','hourlyprecipitation',\n",
    "                                'hourlypressuretendency','hourlyrelativehumidity',#'hourlystationpressure',\n",
    "                                'hourlywetbulbtemperature',#'hourlywinddirection','hourlywindgustspeed',\n",
    "                                #'hourlywindspeed',\n",
    "                                'nasdaq_open','nasdaq_high','nasdaq_low','nasdaq_close','adj_close_x',\n",
    "                                'nasdaq_volume','etf_open','etf_high','etf_low','etf_close','adj_close_y',\n",
    "                                'etf_volume','dowjones_open','dowjones_high','dowjones_low','dowjones_close','adj_close','dowjones_volume',]]\n",
    "leaders_QREUEL_y = leaders_QREUEL['PnL']  "
   ]
  },
  {
   "cell_type": "code",
   "execution_count": 64,
   "metadata": {},
   "outputs": [],
   "source": [
    "leaders_QFPLE4_X = leaders_QFPLE4[['hour',\n",
    "                                'energy_only_offer_award_in_mw','settlement_point_price',\n",
    "                                'rtlmp','dalmp',\n",
    "                                'gr_panhandle_wind_stwpf', 'panhandle_ercot_rt_generic_constraints',\n",
    "                                'ercot_total_resource_cap_out','ercot_gen_resource','ercot_rtload',\n",
    "                                'ercot_original_load_forecast','ercot_wind_rti','ercot_wind_stwpf_orig',\n",
    "                                'ercot_total_resource_cap_out.1','ercot_renew_resource_cap_out',\n",
    "                                'ercot_renew_resource_cap_out',\n",
    "                                 #'hourlydewpointtemperature','hourlydrybulbtemperature','hourlyprecipitation',\n",
    "                                'hourlypressuretendency','hourlyrelativehumidity',#'hourlystationpressure',\n",
    "                                'hourlywetbulbtemperature',#'hourlywinddirection','hourlywindgustspeed',\n",
    "                                #'hourlywindspeed',\n",
    "                                'nasdaq_open','nasdaq_high','nasdaq_low','nasdaq_close','adj_close_x',\n",
    "                                'nasdaq_volume','etf_open','etf_high','etf_low','etf_close','adj_close_y',\n",
    "                                'etf_volume','dowjones_open','dowjones_high','dowjones_low','dowjones_close','adj_close','dowjones_volume',]]\n",
    "leaders_QFPLE4_y = leaders_QFPLE4['PnL']"
   ]
  },
  {
   "cell_type": "code",
   "execution_count": 66,
   "metadata": {},
   "outputs": [],
   "source": [
    "leaders_QLEPPM_X = leaders_QLEPPM[['hour',\n",
    "                                'energy_only_offer_award_in_mw','settlement_point_price',\n",
    "                                'rtlmp','dalmp',\n",
    "                                'gr_panhandle_wind_stwpf', 'panhandle_ercot_rt_generic_constraints',\n",
    "                                'ercot_total_resource_cap_out','ercot_gen_resource','ercot_rtload',\n",
    "                                'ercot_original_load_forecast','ercot_wind_rti','ercot_wind_stwpf_orig',\n",
    "                                'ercot_total_resource_cap_out.1','ercot_renew_resource_cap_out',\n",
    "                                'ercot_renew_resource_cap_out',\n",
    "                                 #'hourlydewpointtemperature','hourlydrybulbtemperature','hourlyprecipitation',\n",
    "                                'hourlypressuretendency','hourlyrelativehumidity',#'hourlystationpressure',\n",
    "                                'hourlywetbulbtemperature',#'hourlywinddirection','hourlywindgustspeed',\n",
    "                                #'hourlywindspeed',\n",
    "                                'nasdaq_open','nasdaq_high','nasdaq_low','nasdaq_close','adj_close_x',\n",
    "                                'nasdaq_volume','etf_open','etf_high','etf_low','etf_close','adj_close_y',\n",
    "                                'etf_volume','dowjones_open','dowjones_high','dowjones_low','dowjones_close','adj_close','dowjones_volume',]]\n",
    "leaders_QLEPPM_y = leaders_QLEPPM['PnL']"
   ]
  },
  {
   "cell_type": "code",
   "execution_count": 68,
   "metadata": {},
   "outputs": [],
   "source": [
    "leaders_QRAID_X = leaders_QRAID[['hour',\n",
    "                                'energy_only_offer_award_in_mw','settlement_point_price',\n",
    "                                'rtlmp','dalmp',\n",
    "                                'gr_panhandle_wind_stwpf', 'panhandle_ercot_rt_generic_constraints',\n",
    "                                'ercot_total_resource_cap_out','ercot_gen_resource','ercot_rtload',\n",
    "                                'ercot_original_load_forecast','ercot_wind_rti','ercot_wind_stwpf_orig',\n",
    "                                'ercot_total_resource_cap_out.1','ercot_renew_resource_cap_out',\n",
    "                                'ercot_renew_resource_cap_out',\n",
    "                                 #'hourlydewpointtemperature','hourlydrybulbtemperature','hourlyprecipitation',\n",
    "                                'hourlypressuretendency','hourlyrelativehumidity',#'hourlystationpressure',\n",
    "                                'hourlywetbulbtemperature',#'hourlywinddirection','hourlywindgustspeed',\n",
    "                                #'hourlywindspeed',\n",
    "                                'nasdaq_open','nasdaq_high','nasdaq_low','nasdaq_close','adj_close_x',\n",
    "                                'nasdaq_volume','etf_open','etf_high','etf_low','etf_close','adj_close_y',\n",
    "                                'etf_volume','dowjones_open','dowjones_high','dowjones_low','dowjones_close','adj_close','dowjones_volume',]]\n",
    "leaders_QRAID_y = leaders_QRAID['PnL']"
   ]
  },
  {
   "cell_type": "code",
   "execution_count": 70,
   "metadata": {},
   "outputs": [],
   "source": [
    "leaders_QSHELL_X = leaders_QSHELL[['hour',\n",
    "                                'energy_only_offer_award_in_mw','settlement_point_price',\n",
    "                                'rtlmp','dalmp',\n",
    "                                'gr_panhandle_wind_stwpf', 'panhandle_ercot_rt_generic_constraints',\n",
    "                                'ercot_total_resource_cap_out','ercot_gen_resource','ercot_rtload',\n",
    "                                'ercot_original_load_forecast','ercot_wind_rti','ercot_wind_stwpf_orig',\n",
    "                                'ercot_total_resource_cap_out.1','ercot_renew_resource_cap_out',\n",
    "                                'ercot_renew_resource_cap_out',\n",
    "                                 #'hourlydewpointtemperature','hourlydrybulbtemperature','hourlyprecipitation',\n",
    "                                'hourlypressuretendency','hourlyrelativehumidity',#'hourlystationpressure',\n",
    "                                'hourlywetbulbtemperature',#'hourlywinddirection','hourlywindgustspeed',\n",
    "                                #'hourlywindspeed',\n",
    "                                'nasdaq_open','nasdaq_high','nasdaq_low','nasdaq_close','adj_close_x',\n",
    "                                'nasdaq_volume','etf_open','etf_high','etf_low','etf_close','adj_close_y',\n",
    "                                'etf_volume','dowjones_open','dowjones_high','dowjones_low','dowjones_close','adj_close','dowjones_volume',]]\n",
    "leaders_QSHELL_y = leaders_QSHELL['PnL']"
   ]
  },
  {
   "cell_type": "code",
   "execution_count": 72,
   "metadata": {},
   "outputs": [],
   "source": [
    "leaders_QEXELO_X = leaders_QEXELO[['hour',\n",
    "                                'energy_only_offer_award_in_mw','settlement_point_price',\n",
    "                                'rtlmp','dalmp',\n",
    "                                'gr_panhandle_wind_stwpf', 'panhandle_ercot_rt_generic_constraints',\n",
    "                                'ercot_total_resource_cap_out','ercot_gen_resource','ercot_rtload',\n",
    "                                'ercot_original_load_forecast','ercot_wind_rti','ercot_wind_stwpf_orig',\n",
    "                                'ercot_total_resource_cap_out.1','ercot_renew_resource_cap_out',\n",
    "                                'ercot_renew_resource_cap_out',\n",
    "                                 #'hourlydewpointtemperature','hourlydrybulbtemperature','hourlyprecipitation',\n",
    "                                'hourlypressuretendency','hourlyrelativehumidity',#'hourlystationpressure',\n",
    "                                'hourlywetbulbtemperature',#'hourlywinddirection','hourlywindgustspeed',\n",
    "                                #'hourlywindspeed',\n",
    "                                'nasdaq_open','nasdaq_high','nasdaq_low','nasdaq_close','adj_close_x',\n",
    "                                'nasdaq_volume','etf_open','etf_high','etf_low','etf_close','adj_close_y',\n",
    "                                'etf_volume','dowjones_open','dowjones_high','dowjones_low','dowjones_close','adj_close','dowjones_volume',]]\n",
    "leaders_QEXELO_y = leaders_QEXELO['PnL']"
   ]
  },
  {
   "cell_type": "code",
   "execution_count": 74,
   "metadata": {},
   "outputs": [],
   "source": [
    "leaders_QTRAIL_X = leaders_QTRAIL[['hour',\n",
    "                                'energy_only_offer_award_in_mw','settlement_point_price',\n",
    "                                'rtlmp','dalmp',\n",
    "                                'gr_panhandle_wind_stwpf', 'panhandle_ercot_rt_generic_constraints',\n",
    "                                'ercot_total_resource_cap_out','ercot_gen_resource','ercot_rtload',\n",
    "                                'ercot_original_load_forecast','ercot_wind_rti','ercot_wind_stwpf_orig',\n",
    "                                'ercot_total_resource_cap_out.1','ercot_renew_resource_cap_out',\n",
    "                                'ercot_renew_resource_cap_out',\n",
    "                                 #'hourlydewpointtemperature','hourlydrybulbtemperature','hourlyprecipitation',\n",
    "                                'hourlypressuretendency','hourlyrelativehumidity',#'hourlystationpressure',\n",
    "                                'hourlywetbulbtemperature',#'hourlywinddirection','hourlywindgustspeed',\n",
    "                                #'hourlywindspeed',\n",
    "                                'nasdaq_open','nasdaq_high','nasdaq_low','nasdaq_close','adj_close_x',\n",
    "                                'nasdaq_volume','etf_open','etf_high','etf_low','etf_close','adj_close_y',\n",
    "                                'etf_volume','dowjones_open','dowjones_high','dowjones_low','dowjones_close','adj_close','dowjones_volume',]]\n",
    "leaders_QTRAIL_y = leaders_QTRAIL['PnL']"
   ]
  },
  {
   "cell_type": "code",
   "execution_count": 76,
   "metadata": {},
   "outputs": [],
   "source": [
    "leaders_QWAKE_X = leaders_QWAKE[['hour',\n",
    "                                'energy_only_offer_award_in_mw','settlement_point_price',\n",
    "                                'rtlmp','dalmp',\n",
    "                                'gr_panhandle_wind_stwpf', 'panhandle_ercot_rt_generic_constraints',\n",
    "                                'ercot_total_resource_cap_out','ercot_gen_resource','ercot_rtload',\n",
    "                                'ercot_original_load_forecast','ercot_wind_rti','ercot_wind_stwpf_orig',\n",
    "                                'ercot_total_resource_cap_out.1','ercot_renew_resource_cap_out',\n",
    "                                'ercot_renew_resource_cap_out',\n",
    "                                 #'hourlydewpointtemperature','hourlydrybulbtemperature','hourlyprecipitation',\n",
    "                                'hourlypressuretendency','hourlyrelativehumidity',#'hourlystationpressure',\n",
    "                                'hourlywetbulbtemperature',#'hourlywinddirection','hourlywindgustspeed',\n",
    "                                #'hourlywindspeed',\n",
    "                                'nasdaq_open','nasdaq_high','nasdaq_low','nasdaq_close','adj_close_x',\n",
    "                                'nasdaq_volume','etf_open','etf_high','etf_low','etf_close','adj_close_y',\n",
    "                                'etf_volume','dowjones_open','dowjones_high','dowjones_low','dowjones_close','adj_close','dowjones_volume',]]\n",
    "leaders_QWAKE_y = leaders_QWAKE['PnL']"
   ]
  },
  {
   "cell_type": "code",
   "execution_count": 78,
   "metadata": {},
   "outputs": [],
   "source": [
    "leaders_QEDF26_X = leaders_QEDF26[['hour',\n",
    "                                'energy_only_offer_award_in_mw','settlement_point_price',\n",
    "                                'rtlmp','dalmp',\n",
    "                                'gr_panhandle_wind_stwpf', 'panhandle_ercot_rt_generic_constraints',\n",
    "                                'ercot_total_resource_cap_out','ercot_gen_resource','ercot_rtload',\n",
    "                                'ercot_original_load_forecast','ercot_wind_rti','ercot_wind_stwpf_orig',\n",
    "                                'ercot_total_resource_cap_out.1','ercot_renew_resource_cap_out',\n",
    "                                'ercot_renew_resource_cap_out',\n",
    "                                 #'hourlydewpointtemperature','hourlydrybulbtemperature','hourlyprecipitation',\n",
    "                                'hourlypressuretendency','hourlyrelativehumidity',#'hourlystationpressure',\n",
    "                                'hourlywetbulbtemperature',#'hourlywinddirection','hourlywindgustspeed',\n",
    "                                #'hourlywindspeed',\n",
    "                                'nasdaq_open','nasdaq_high','nasdaq_low','nasdaq_close','adj_close_x',\n",
    "                                'nasdaq_volume','etf_open','etf_high','etf_low','etf_close','adj_close_y',\n",
    "                                'etf_volume','dowjones_open','dowjones_high','dowjones_low','dowjones_close','adj_close','dowjones_volume',]]\n",
    "leaders_QEDF26_y = leaders_QEDF26['PnL']"
   ]
  },
  {
   "cell_type": "code",
   "execution_count": 80,
   "metadata": {},
   "outputs": [],
   "source": [
    "leaders_QTTPAL_X = leaders_QTTPAL[['hour',\n",
    "                                'energy_only_offer_award_in_mw','settlement_point_price',\n",
    "                                'rtlmp','dalmp',\n",
    "                                'gr_panhandle_wind_stwpf', 'panhandle_ercot_rt_generic_constraints',\n",
    "                                'ercot_total_resource_cap_out','ercot_gen_resource','ercot_rtload',\n",
    "                                'ercot_original_load_forecast','ercot_wind_rti','ercot_wind_stwpf_orig',\n",
    "                                'ercot_total_resource_cap_out.1','ercot_renew_resource_cap_out',\n",
    "                                'ercot_renew_resource_cap_out',\n",
    "                                 #'hourlydewpointtemperature','hourlydrybulbtemperature','hourlyprecipitation',\n",
    "                                'hourlypressuretendency','hourlyrelativehumidity',#'hourlystationpressure',\n",
    "                                'hourlywetbulbtemperature',#'hourlywinddirection','hourlywindgustspeed',\n",
    "                                #'hourlywindspeed',\n",
    "                                'nasdaq_open','nasdaq_high','nasdaq_low','nasdaq_close','adj_close_x',\n",
    "                                'nasdaq_volume','etf_open','etf_high','etf_low','etf_close','adj_close_y',\n",
    "                                'etf_volume','dowjones_open','dowjones_high','dowjones_low','dowjones_close','adj_close','dowjones_volume',]]\n",
    "leaders_QTTPAL_y = leaders_QTTPAL['PnL']"
   ]
  },
  {
   "cell_type": "code",
   "execution_count": 61,
   "metadata": {},
   "outputs": [],
   "source": [
    "leaders_QREUEL.fillna(0)\n",
    "leaders_QREUEL = leaders_QREUEL.astype('float64', errors='ignore')"
   ]
  },
  {
   "cell_type": "code",
   "execution_count": null,
   "metadata": {},
   "outputs": [],
   "source": [
    "leaders_QREUEL.fillna(0)\n",
    "leaders_QREUEL['hourlydewpointtemperature'] = leaders_QREUEL['hourlydewpointtemperature'].str.extract('(\\d+)', expand=False)\n",
    "#leaders_QREUEL[['hourlydewpointtemperature','hourlydrybulbtemperature','hourlyprecipitation','hourlystationpressure','hourlywinddirection','hourlywindgustspeed','hourlywindspeed']] = leaders_QREUEL[['hourlydewpointtemperature','hourlydrybulbtemperature','hourlyprecipitation','hourlystationpressure','hourlywinddirection','hourlywindgustspeed','hourlywindspeed']].str.extract('(\\d+)', expand=False)\n",
    "#leaders_QREUEL.hourlydewpointtemperature #.astype('int32',errors='raise')\n",
    "leaders_QREUEL.dtypes"
   ]
  },
  {
   "cell_type": "markdown",
   "metadata": {},
   "source": [
    "# Model Test 1: Linear Regression"
   ]
  },
  {
   "cell_type": "code",
   "execution_count": 63,
   "metadata": {},
   "outputs": [
    {
     "data": {
      "text/plain": [
       "0.42060257756421326"
      ]
     },
     "execution_count": 63,
     "metadata": {},
     "output_type": "execute_result"
    }
   ],
   "source": [
    "leaders_QREUEL_X = leaders_QREUEL_X.fillna(0)\n",
    "reg = LinearRegression().fit(leaders_QREUEL_X,leaders_QREUEL_y)\n",
    "reg.coef_\n",
    "reg.score(leaders_QREUEL_X, leaders_QREUEL_y)"
   ]
  },
  {
   "cell_type": "code",
   "execution_count": 65,
   "metadata": {},
   "outputs": [
    {
     "data": {
      "text/plain": [
       "0.3229764214956178"
      ]
     },
     "execution_count": 65,
     "metadata": {},
     "output_type": "execute_result"
    }
   ],
   "source": [
    "leaders_QFPLE4_X = leaders_QFPLE4_X.fillna(0)\n",
    "reg = LinearRegression().fit(leaders_QFPLE4_X,leaders_QFPLE4_y)\n",
    "reg.coef_\n",
    "reg.score(leaders_QFPLE4_X, leaders_QFPLE4_y)"
   ]
  },
  {
   "cell_type": "code",
   "execution_count": 67,
   "metadata": {},
   "outputs": [
    {
     "data": {
      "text/plain": [
       "0.6788657247893316"
      ]
     },
     "execution_count": 67,
     "metadata": {},
     "output_type": "execute_result"
    }
   ],
   "source": [
    "leaders_QLEPPM_X = leaders_QLEPPM_X.fillna(0)\n",
    "reg = LinearRegression().fit(leaders_QLEPPM_X,leaders_QLEPPM_y)\n",
    "reg.coef_\n",
    "reg.score(leaders_QLEPPM_X, leaders_QLEPPM_y)"
   ]
  },
  {
   "cell_type": "code",
   "execution_count": 69,
   "metadata": {},
   "outputs": [
    {
     "data": {
      "text/plain": [
       "0.1832498556127229"
      ]
     },
     "execution_count": 69,
     "metadata": {},
     "output_type": "execute_result"
    }
   ],
   "source": [
    "leaders_QRAID_X = leaders_QRAID_X.fillna(0)\n",
    "reg = LinearRegression().fit(leaders_QRAID_X,leaders_QRAID_y)\n",
    "reg.coef_\n",
    "reg.score(leaders_QRAID_X, leaders_QRAID_y)"
   ]
  },
  {
   "cell_type": "code",
   "execution_count": 71,
   "metadata": {},
   "outputs": [
    {
     "data": {
      "text/plain": [
       "0.16637722234598218"
      ]
     },
     "execution_count": 71,
     "metadata": {},
     "output_type": "execute_result"
    }
   ],
   "source": [
    "leaders_QSHELL_X = leaders_QSHELL_X.fillna(0)\n",
    "reg = LinearRegression().fit(leaders_QSHELL_X,leaders_QSHELL_y)\n",
    "reg.coef_\n",
    "reg.score(leaders_QSHELL_X, leaders_QSHELL_y)"
   ]
  },
  {
   "cell_type": "code",
   "execution_count": 73,
   "metadata": {},
   "outputs": [
    {
     "data": {
      "text/plain": [
       "0.08153647038030054"
      ]
     },
     "execution_count": 73,
     "metadata": {},
     "output_type": "execute_result"
    }
   ],
   "source": [
    "leaders_QEXELO_X = leaders_QEXELO_X.fillna(0)\n",
    "reg = LinearRegression().fit(leaders_QEXELO_X,leaders_QEXELO_y)\n",
    "reg.coef_\n",
    "reg.score(leaders_QEXELO_X, leaders_QEXELO_y)"
   ]
  },
  {
   "cell_type": "code",
   "execution_count": 75,
   "metadata": {},
   "outputs": [
    {
     "data": {
      "text/plain": [
       "0.9997463420361379"
      ]
     },
     "execution_count": 75,
     "metadata": {},
     "output_type": "execute_result"
    }
   ],
   "source": [
    "leaders_QTRAIL_X = leaders_QTRAIL_X.fillna(0)\n",
    "reg = LinearRegression().fit(leaders_QTRAIL_X,leaders_QTRAIL_y)\n",
    "reg.coef_\n",
    "reg.score(leaders_QTRAIL_X, leaders_QTRAIL_y)"
   ]
  },
  {
   "cell_type": "code",
   "execution_count": 77,
   "metadata": {},
   "outputs": [
    {
     "data": {
      "text/plain": [
       "0.7965887690634498"
      ]
     },
     "execution_count": 77,
     "metadata": {},
     "output_type": "execute_result"
    }
   ],
   "source": [
    "leaders_QWAKE_X = leaders_QWAKE_X.fillna(0)\n",
    "reg = LinearRegression().fit(leaders_QWAKE_X,leaders_QWAKE_y)\n",
    "reg.coef_\n",
    "reg.score(leaders_QWAKE_X, leaders_QWAKE_y)"
   ]
  },
  {
   "cell_type": "code",
   "execution_count": 79,
   "metadata": {},
   "outputs": [
    {
     "data": {
      "text/plain": [
       "0.4265418406526341"
      ]
     },
     "execution_count": 79,
     "metadata": {},
     "output_type": "execute_result"
    }
   ],
   "source": [
    "leaders_QEDF26_X = leaders_QEDF26_X.fillna(0)\n",
    "reg = LinearRegression().fit(leaders_QEDF26_X,leaders_QEDF26_y)\n",
    "reg.coef_\n",
    "reg.score(leaders_QEDF26_X, leaders_QEDF26_y)"
   ]
  },
  {
   "cell_type": "code",
   "execution_count": 81,
   "metadata": {},
   "outputs": [
    {
     "data": {
      "text/plain": [
       "0.8834939863759151"
      ]
     },
     "execution_count": 81,
     "metadata": {},
     "output_type": "execute_result"
    }
   ],
   "source": [
    "leaders_QTTPAL_X = leaders_QTTPAL_X.fillna(0)\n",
    "reg = LinearRegression().fit(leaders_QTTPAL_X,leaders_QTTPAL_y)\n",
    "reg.coef_\n",
    "reg.score(leaders_QTTPAL_X, leaders_QTTPAL_y)"
   ]
  },
  {
   "cell_type": "code",
   "execution_count": null,
   "metadata": {},
   "outputs": [],
   "source": []
  }
 ],
 "metadata": {
  "kernelspec": {
   "display_name": "Python 3",
   "language": "python",
   "name": "python3"
  },
  "language_info": {
   "codemirror_mode": {
    "name": "ipython",
    "version": 3
   },
   "file_extension": ".py",
   "mimetype": "text/x-python",
   "name": "python",
   "nbconvert_exporter": "python",
   "pygments_lexer": "ipython3",
   "version": "3.6.8"
  }
 },
 "nbformat": 4,
 "nbformat_minor": 2
}
